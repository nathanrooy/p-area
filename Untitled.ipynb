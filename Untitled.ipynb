{
 "cells": [
  {
   "cell_type": "code",
   "execution_count": 1,
   "metadata": {},
   "outputs": [],
   "source": [
    "import os\n",
    "import numpy as np\n",
    "from shapely.geometry import Polygon\n",
    "from shapely.ops import unary_union"
   ]
  },
  {
   "cell_type": "code",
   "execution_count": 2,
   "metadata": {},
   "outputs": [],
   "source": [
    "from parea.main import _load_stl\n",
    "from parea.main import _calculate_projected_area\n",
    "from parea.main import _read_ascii\n",
    "from parea.main import _munge_triangle\n",
    "from parea.main import _area2"
   ]
  },
  {
   "cell_type": "code",
   "execution_count": 3,
   "metadata": {},
   "outputs": [],
   "source": [
    "path = 'tests/data/'\n",
    "stl_paths = [f'{path}{item}' for item in sorted(os.listdir(path)) if 'p' in item]\n",
    "pvec = 'x'\n",
    "fheight = 0"
   ]
  },
  {
   "cell_type": "code",
   "execution_count": 4,
   "metadata": {},
   "outputs": [],
   "source": [
    "# cycle through all stls\n",
    "sub_polys = []\n",
    "for stl_file in stl_paths:\n",
    "\n",
    "    # bulk load all triangles from stl\n",
    "    triangles = _load_stl(stl_file, pvec)\n",
    "\n",
    "    # merge triangles into single polygon\n",
    "    sub_poly = unary_union(triangles)\n",
    "\n",
    "    # persist sub poly\n",
    "    sub_polys.append(sub_poly)\n",
    "\n",
    "# final merge\n",
    "p_projected = unary_union(sub_polys)"
   ]
  },
  {
   "cell_type": "code",
   "execution_count": 5,
   "metadata": {},
   "outputs": [],
   "source": [
    "u_min, v_min, u_max, v_max = p_projected.bounds"
   ]
  },
  {
   "cell_type": "code",
   "execution_count": 6,
   "metadata": {},
   "outputs": [],
   "source": [
    "p_floor = Polygon([\n",
    "    (u_min-1, v_min-1),\n",
    "    (u_max+1, v_min-1),\n",
    "    (u_max+1, fheight),\n",
    "    (u_min-1, fheight)])"
   ]
  },
  {
   "cell_type": "code",
   "execution_count": 7,
   "metadata": {},
   "outputs": [
    {
     "data": {
      "image/svg+xml": [
       "<svg xmlns=\"http://www.w3.org/2000/svg\" xmlns:xlink=\"http://www.w3.org/1999/xlink\" width=\"100.0\" height=\"100.0\" viewBox=\"-1.08 -1.08 2.16 2.16\" preserveAspectRatio=\"xMinYMin meet\"><g transform=\"matrix(1,0,0,-1,0,0.0)\"><path fill-rule=\"evenodd\" fill=\"#66cc99\" stroke=\"#555555\" stroke-width=\"0.0432\" opacity=\"0.6\" d=\"M 1.0,0.0 L 1.0,-0.5 L 1.0,-1.0 L 0.5,-1.0 L -0.0,-1.0 L -0.5,-1.0 L -1.0,-1.0 L -1.0,-0.5 L -1.0,0.0 L -1.0,0.5 L -1.0,1.0 L -0.5,1.0 L 0.0,1.0 L 0.5,1.0 L 1.0,1.0 L 1.0,0.5 L 1.0,0.0 z M -0.5,-0.5 L 0.0,-0.5 L 0.5,-0.5 L 0.5,0.0 L 0.5,0.5 L 0.0,0.5 L -0.5,0.5 L -0.5,0.0 L -0.5,-0.5 z\" /></g></svg>"
      ],
      "text/plain": [
       "<shapely.geometry.polygon.Polygon at 0x7fabe10a5710>"
      ]
     },
     "execution_count": 7,
     "metadata": {},
     "output_type": "execute_result"
    }
   ],
   "source": [
    "p_projected"
   ]
  },
  {
   "cell_type": "code",
   "execution_count": 8,
   "metadata": {},
   "outputs": [
    {
     "data": {
      "image/svg+xml": [
       "<svg xmlns=\"http://www.w3.org/2000/svg\" xmlns:xlink=\"http://www.w3.org/1999/xlink\" width=\"100.0\" height=\"100.0\" viewBox=\"-2.16 -2.16 4.32 2.3200000000000003\" preserveAspectRatio=\"xMinYMin meet\"><g transform=\"matrix(1,0,0,-1,0,-2.0)\"><path fill-rule=\"evenodd\" fill=\"#66cc99\" stroke=\"#555555\" stroke-width=\"0.0864\" opacity=\"0.6\" d=\"M -2.0,-2.0 L 2.0,-2.0 L 2.0,0.0 L -2.0,0.0 L -2.0,-2.0 z\" /></g></svg>"
      ],
      "text/plain": [
       "<shapely.geometry.polygon.Polygon at 0x7fabe10a5d68>"
      ]
     },
     "execution_count": 8,
     "metadata": {},
     "output_type": "execute_result"
    }
   ],
   "source": [
    "p_floor"
   ]
  },
  {
   "cell_type": "code",
   "execution_count": 9,
   "metadata": {},
   "outputs": [
    {
     "data": {
      "text/plain": [
       "1.5"
      ]
     },
     "execution_count": 9,
     "metadata": {},
     "output_type": "execute_result"
    }
   ],
   "source": [
    "p_projected.difference(p_floor).area"
   ]
  },
  {
   "cell_type": "code",
   "execution_count": null,
   "metadata": {},
   "outputs": [],
   "source": []
  }
 ],
 "metadata": {
  "kernelspec": {
   "display_name": "Python 3",
   "language": "python",
   "name": "python3"
  },
  "language_info": {
   "codemirror_mode": {
    "name": "ipython",
    "version": 3
   },
   "file_extension": ".py",
   "mimetype": "text/x-python",
   "name": "python",
   "nbconvert_exporter": "python",
   "pygments_lexer": "ipython3",
   "version": "3.6.8"
  }
 },
 "nbformat": 4,
 "nbformat_minor": 2
}
